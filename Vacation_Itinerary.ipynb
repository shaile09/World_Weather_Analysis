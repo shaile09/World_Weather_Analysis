{
 "cells": [
  {
   "cell_type": "code",
   "execution_count": 3,
   "metadata": {},
   "outputs": [],
   "source": [
    "# Import the dependencies.\n",
    "import pandas as pd\n",
    "import gmaps\n",
    "import requests\n",
    "from citipy import citipy\n",
    "# Import the API key.\n",
    "from config import g_key\n",
    "\n",
    "# Import the requests library.\n",
    "import requests\n",
    "\n",
    "from datetime import datetime\n",
    "import time\n",
    "from scipy.stats import linregress"
   ]
  },
  {
   "cell_type": "code",
   "execution_count": 4,
   "metadata": {},
   "outputs": [
    {
     "data": {
      "text/html": [
       "<div>\n",
       "<style scoped>\n",
       "    .dataframe tbody tr th:only-of-type {\n",
       "        vertical-align: middle;\n",
       "    }\n",
       "\n",
       "    .dataframe tbody tr th {\n",
       "        vertical-align: top;\n",
       "    }\n",
       "\n",
       "    .dataframe thead th {\n",
       "        text-align: right;\n",
       "    }\n",
       "</style>\n",
       "<table border=\"1\" class=\"dataframe\">\n",
       "  <thead>\n",
       "    <tr style=\"text-align: right;\">\n",
       "      <th></th>\n",
       "      <th>City</th>\n",
       "      <th>Country</th>\n",
       "      <th>Max Temp</th>\n",
       "      <th>Current Description</th>\n",
       "      <th>Lat</th>\n",
       "      <th>Lng</th>\n",
       "      <th>Hotel Name</th>\n",
       "    </tr>\n",
       "    <tr>\n",
       "      <th>City_ID</th>\n",
       "      <th></th>\n",
       "      <th></th>\n",
       "      <th></th>\n",
       "      <th></th>\n",
       "      <th></th>\n",
       "      <th></th>\n",
       "      <th></th>\n",
       "    </tr>\n",
       "  </thead>\n",
       "  <tbody>\n",
       "    <tr>\n",
       "      <th>0</th>\n",
       "      <td>Dhankuta</td>\n",
       "      <td>NP</td>\n",
       "      <td>38.93</td>\n",
       "      <td>few clouds</td>\n",
       "      <td>26.98</td>\n",
       "      <td>87.34</td>\n",
       "      <td>Hotel Pacific - 3</td>\n",
       "    </tr>\n",
       "    <tr>\n",
       "      <th>2</th>\n",
       "      <td>Hithadhoo</td>\n",
       "      <td>MV</td>\n",
       "      <td>81.48</td>\n",
       "      <td>overcast clouds</td>\n",
       "      <td>-0.60</td>\n",
       "      <td>73.08</td>\n",
       "      <td>Scoop Guest House</td>\n",
       "    </tr>\n",
       "    <tr>\n",
       "      <th>3</th>\n",
       "      <td>Victoria</td>\n",
       "      <td>BN</td>\n",
       "      <td>80.60</td>\n",
       "      <td>broken clouds</td>\n",
       "      <td>5.28</td>\n",
       "      <td>115.24</td>\n",
       "      <td>Tiara Labuan Hotel</td>\n",
       "    </tr>\n",
       "    <tr>\n",
       "      <th>4</th>\n",
       "      <td>Port Elizabeth</td>\n",
       "      <td>US</td>\n",
       "      <td>43.00</td>\n",
       "      <td>overcast clouds</td>\n",
       "      <td>39.31</td>\n",
       "      <td>-74.98</td>\n",
       "      <td>HAMMER RUN</td>\n",
       "    </tr>\n",
       "    <tr>\n",
       "      <th>5</th>\n",
       "      <td>Mechetinskaya</td>\n",
       "      <td>RU</td>\n",
       "      <td>38.19</td>\n",
       "      <td>light rain</td>\n",
       "      <td>46.77</td>\n",
       "      <td>40.45</td>\n",
       "      <td>Stoyanka, Shinomontazh, Dush</td>\n",
       "    </tr>\n",
       "    <tr>\n",
       "      <th>6</th>\n",
       "      <td>Palmer</td>\n",
       "      <td>AU</td>\n",
       "      <td>61.00</td>\n",
       "      <td>clear sky</td>\n",
       "      <td>-34.85</td>\n",
       "      <td>139.16</td>\n",
       "      <td>Palmer Hotel</td>\n",
       "    </tr>\n",
       "    <tr>\n",
       "      <th>8</th>\n",
       "      <td>Llanes</td>\n",
       "      <td>ES</td>\n",
       "      <td>46.99</td>\n",
       "      <td>clear sky</td>\n",
       "      <td>43.42</td>\n",
       "      <td>-4.75</td>\n",
       "      <td>Hotel La Paz</td>\n",
       "    </tr>\n",
       "    <tr>\n",
       "      <th>9</th>\n",
       "      <td>Dalmatovo</td>\n",
       "      <td>RU</td>\n",
       "      <td>18.39</td>\n",
       "      <td>clear sky</td>\n",
       "      <td>56.26</td>\n",
       "      <td>62.94</td>\n",
       "      <td>Gostinitsa Dlya Palomnikov</td>\n",
       "    </tr>\n",
       "    <tr>\n",
       "      <th>12</th>\n",
       "      <td>Rikitea</td>\n",
       "      <td>PF</td>\n",
       "      <td>76.03</td>\n",
       "      <td>broken clouds</td>\n",
       "      <td>-23.12</td>\n",
       "      <td>-134.97</td>\n",
       "      <td>Pension Maro'i</td>\n",
       "    </tr>\n",
       "    <tr>\n",
       "      <th>13</th>\n",
       "      <td>Bulancak</td>\n",
       "      <td>TR</td>\n",
       "      <td>39.20</td>\n",
       "      <td>few clouds</td>\n",
       "      <td>40.94</td>\n",
       "      <td>38.23</td>\n",
       "      <td>Ada Loft Aparts</td>\n",
       "    </tr>\n",
       "  </tbody>\n",
       "</table>\n",
       "</div>"
      ],
      "text/plain": [
       "                   City Country  Max Temp Current Description    Lat     Lng  \\\n",
       "City_ID                                                                        \n",
       "0              Dhankuta      NP     38.93          few clouds  26.98   87.34   \n",
       "2             Hithadhoo      MV     81.48     overcast clouds  -0.60   73.08   \n",
       "3              Victoria      BN     80.60       broken clouds   5.28  115.24   \n",
       "4        Port Elizabeth      US     43.00     overcast clouds  39.31  -74.98   \n",
       "5         Mechetinskaya      RU     38.19          light rain  46.77   40.45   \n",
       "6                Palmer      AU     61.00           clear sky -34.85  139.16   \n",
       "8                Llanes      ES     46.99           clear sky  43.42   -4.75   \n",
       "9             Dalmatovo      RU     18.39           clear sky  56.26   62.94   \n",
       "12              Rikitea      PF     76.03       broken clouds -23.12 -134.97   \n",
       "13             Bulancak      TR     39.20          few clouds  40.94   38.23   \n",
       "\n",
       "                           Hotel Name  \n",
       "City_ID                                \n",
       "0                   Hotel Pacific - 3  \n",
       "2                   Scoop Guest House  \n",
       "3                  Tiara Labuan Hotel  \n",
       "4                          HAMMER RUN  \n",
       "5        Stoyanka, Shinomontazh, Dush  \n",
       "6                        Palmer Hotel  \n",
       "8                        Hotel La Paz  \n",
       "9          Gostinitsa Dlya Palomnikov  \n",
       "12                     Pension Maro'i  \n",
       "13                    Ada Loft Aparts  "
      ]
     },
     "execution_count": 4,
     "metadata": {},
     "output_type": "execute_result"
    }
   ],
   "source": [
    "# Store the CSV you saved created in part one into a DataFrame.\n",
    "vacationItinerary_df = pd.read_csv(\"Data/WeatherPy_vacation_.csv\", index_col = 0)\n",
    "vacationItinerary_df.head(10)"
   ]
  },
  {
   "cell_type": "code",
   "execution_count": 5,
   "metadata": {},
   "outputs": [
    {
     "data": {
      "text/html": [
       "<div>\n",
       "<style scoped>\n",
       "    .dataframe tbody tr th:only-of-type {\n",
       "        vertical-align: middle;\n",
       "    }\n",
       "\n",
       "    .dataframe tbody tr th {\n",
       "        vertical-align: top;\n",
       "    }\n",
       "\n",
       "    .dataframe thead th {\n",
       "        text-align: right;\n",
       "    }\n",
       "</style>\n",
       "<table border=\"1\" class=\"dataframe\">\n",
       "  <thead>\n",
       "    <tr style=\"text-align: right;\">\n",
       "      <th></th>\n",
       "      <th>City</th>\n",
       "      <th>Country</th>\n",
       "      <th>Max Temp</th>\n",
       "      <th>Current Description</th>\n",
       "      <th>Lat</th>\n",
       "      <th>Lng</th>\n",
       "      <th>Hotel Name</th>\n",
       "    </tr>\n",
       "    <tr>\n",
       "      <th>City_ID</th>\n",
       "      <th></th>\n",
       "      <th></th>\n",
       "      <th></th>\n",
       "      <th></th>\n",
       "      <th></th>\n",
       "      <th></th>\n",
       "      <th></th>\n",
       "    </tr>\n",
       "  </thead>\n",
       "  <tbody>\n",
       "    <tr>\n",
       "      <th>37</th>\n",
       "      <td>Cape Town</td>\n",
       "      <td>ZA</td>\n",
       "      <td>68.0</td>\n",
       "      <td>broken clouds</td>\n",
       "      <td>-33.93</td>\n",
       "      <td>18.42</td>\n",
       "      <td>Southern Sun Waterfront Cape Town</td>\n",
       "    </tr>\n",
       "  </tbody>\n",
       "</table>\n",
       "</div>"
      ],
      "text/plain": [
       "              City Country  Max Temp Current Description    Lat    Lng  \\\n",
       "City_ID                                                                  \n",
       "37       Cape Town      ZA      68.0       broken clouds -33.93  18.42   \n",
       "\n",
       "                                Hotel Name  \n",
       "City_ID                                     \n",
       "37       Southern Sun Waterfront Cape Town  "
      ]
     },
     "execution_count": 5,
     "metadata": {},
     "output_type": "execute_result"
    }
   ],
   "source": [
    "#filter four picked cities \n",
    "\n",
    "ZACapeTown_df = vacationItinerary_df[vacationItinerary_df[\"City\"]== \"Cape Town\"]\n",
    "ZACapeTown_df"
   ]
  },
  {
   "cell_type": "code",
   "execution_count": 6,
   "metadata": {},
   "outputs": [
    {
     "data": {
      "text/html": [
       "<div>\n",
       "<style scoped>\n",
       "    .dataframe tbody tr th:only-of-type {\n",
       "        vertical-align: middle;\n",
       "    }\n",
       "\n",
       "    .dataframe tbody tr th {\n",
       "        vertical-align: top;\n",
       "    }\n",
       "\n",
       "    .dataframe thead th {\n",
       "        text-align: right;\n",
       "    }\n",
       "</style>\n",
       "<table border=\"1\" class=\"dataframe\">\n",
       "  <thead>\n",
       "    <tr style=\"text-align: right;\">\n",
       "      <th></th>\n",
       "      <th>City</th>\n",
       "      <th>Country</th>\n",
       "      <th>Max Temp</th>\n",
       "      <th>Current Description</th>\n",
       "      <th>Lat</th>\n",
       "      <th>Lng</th>\n",
       "      <th>Hotel Name</th>\n",
       "    </tr>\n",
       "    <tr>\n",
       "      <th>City_ID</th>\n",
       "      <th></th>\n",
       "      <th></th>\n",
       "      <th></th>\n",
       "      <th></th>\n",
       "      <th></th>\n",
       "      <th></th>\n",
       "      <th></th>\n",
       "    </tr>\n",
       "  </thead>\n",
       "  <tbody>\n",
       "    <tr>\n",
       "      <th>23</th>\n",
       "      <td>Port Alfred</td>\n",
       "      <td>ZA</td>\n",
       "      <td>68.0</td>\n",
       "      <td>scattered clouds</td>\n",
       "      <td>-33.59</td>\n",
       "      <td>26.89</td>\n",
       "      <td>The Halyards Hotel</td>\n",
       "    </tr>\n",
       "  </tbody>\n",
       "</table>\n",
       "</div>"
      ],
      "text/plain": [
       "                City Country  Max Temp Current Description    Lat    Lng  \\\n",
       "City_ID                                                                    \n",
       "23       Port Alfred      ZA      68.0    scattered clouds -33.59  26.89   \n",
       "\n",
       "                 Hotel Name  \n",
       "City_ID                      \n",
       "23       The Halyards Hotel  "
      ]
     },
     "execution_count": 6,
     "metadata": {},
     "output_type": "execute_result"
    }
   ],
   "source": [
    "#filter four picked cities \n",
    "\n",
    "ZAPortAlfred_df = vacationItinerary_df[vacationItinerary_df[\"City\"]== \"Port Alfred\"]\n",
    "ZAPortAlfred_df"
   ]
  },
  {
   "cell_type": "code",
   "execution_count": 7,
   "metadata": {},
   "outputs": [
    {
     "data": {
      "text/html": [
       "<div>\n",
       "<style scoped>\n",
       "    .dataframe tbody tr th:only-of-type {\n",
       "        vertical-align: middle;\n",
       "    }\n",
       "\n",
       "    .dataframe tbody tr th {\n",
       "        vertical-align: top;\n",
       "    }\n",
       "\n",
       "    .dataframe thead th {\n",
       "        text-align: right;\n",
       "    }\n",
       "</style>\n",
       "<table border=\"1\" class=\"dataframe\">\n",
       "  <thead>\n",
       "    <tr style=\"text-align: right;\">\n",
       "      <th></th>\n",
       "      <th>City</th>\n",
       "      <th>Country</th>\n",
       "      <th>Max Temp</th>\n",
       "      <th>Current Description</th>\n",
       "      <th>Lat</th>\n",
       "      <th>Lng</th>\n",
       "      <th>Hotel Name</th>\n",
       "    </tr>\n",
       "    <tr>\n",
       "      <th>City_ID</th>\n",
       "      <th></th>\n",
       "      <th></th>\n",
       "      <th></th>\n",
       "      <th></th>\n",
       "      <th></th>\n",
       "      <th></th>\n",
       "      <th></th>\n",
       "    </tr>\n",
       "  </thead>\n",
       "  <tbody>\n",
       "    <tr>\n",
       "      <th>201</th>\n",
       "      <td>Kruisfontein</td>\n",
       "      <td>ZA</td>\n",
       "      <td>65.17</td>\n",
       "      <td>light rain</td>\n",
       "      <td>-34.0</td>\n",
       "      <td>24.73</td>\n",
       "      <td>Oyster Bay House Rental</td>\n",
       "    </tr>\n",
       "  </tbody>\n",
       "</table>\n",
       "</div>"
      ],
      "text/plain": [
       "                 City Country  Max Temp Current Description   Lat    Lng  \\\n",
       "City_ID                                                                    \n",
       "201      Kruisfontein      ZA     65.17          light rain -34.0  24.73   \n",
       "\n",
       "                      Hotel Name  \n",
       "City_ID                           \n",
       "201      Oyster Bay House Rental  "
      ]
     },
     "execution_count": 7,
     "metadata": {},
     "output_type": "execute_result"
    }
   ],
   "source": [
    "ZAKruisfontein_df = vacationItinerary_df[vacationItinerary_df[\"City\"]== \"Kruisfontein\"]\n",
    "ZAKruisfontein_df"
   ]
  },
  {
   "cell_type": "code",
   "execution_count": 8,
   "metadata": {},
   "outputs": [
    {
     "data": {
      "text/html": [
       "<div>\n",
       "<style scoped>\n",
       "    .dataframe tbody tr th:only-of-type {\n",
       "        vertical-align: middle;\n",
       "    }\n",
       "\n",
       "    .dataframe tbody tr th {\n",
       "        vertical-align: top;\n",
       "    }\n",
       "\n",
       "    .dataframe thead th {\n",
       "        text-align: right;\n",
       "    }\n",
       "</style>\n",
       "<table border=\"1\" class=\"dataframe\">\n",
       "  <thead>\n",
       "    <tr style=\"text-align: right;\">\n",
       "      <th></th>\n",
       "      <th>City</th>\n",
       "      <th>Country</th>\n",
       "      <th>Max Temp</th>\n",
       "      <th>Current Description</th>\n",
       "      <th>Lat</th>\n",
       "      <th>Lng</th>\n",
       "      <th>Hotel Name</th>\n",
       "    </tr>\n",
       "    <tr>\n",
       "      <th>City_ID</th>\n",
       "      <th></th>\n",
       "      <th></th>\n",
       "      <th></th>\n",
       "      <th></th>\n",
       "      <th></th>\n",
       "      <th></th>\n",
       "      <th></th>\n",
       "    </tr>\n",
       "  </thead>\n",
       "  <tbody>\n",
       "    <tr>\n",
       "      <th>95</th>\n",
       "      <td>Hermanus</td>\n",
       "      <td>ZA</td>\n",
       "      <td>64.0</td>\n",
       "      <td>overcast clouds</td>\n",
       "      <td>-34.42</td>\n",
       "      <td>19.24</td>\n",
       "      <td>Misty Waves Boutique Hotel</td>\n",
       "    </tr>\n",
       "  </tbody>\n",
       "</table>\n",
       "</div>"
      ],
      "text/plain": [
       "             City Country  Max Temp Current Description    Lat    Lng  \\\n",
       "City_ID                                                                 \n",
       "95       Hermanus      ZA      64.0     overcast clouds -34.42  19.24   \n",
       "\n",
       "                         Hotel Name  \n",
       "City_ID                              \n",
       "95       Misty Waves Boutique Hotel  "
      ]
     },
     "execution_count": 8,
     "metadata": {},
     "output_type": "execute_result"
    }
   ],
   "source": [
    "ZAHermanus_df = vacationItinerary_df[vacationItinerary_df[\"City\"]== \"Hermanus\"]\n",
    "ZAHermanus_df"
   ]
  },
  {
   "cell_type": "code",
   "execution_count": 9,
   "metadata": {},
   "outputs": [
    {
     "data": {
      "text/html": [
       "<div>\n",
       "<style scoped>\n",
       "    .dataframe tbody tr th:only-of-type {\n",
       "        vertical-align: middle;\n",
       "    }\n",
       "\n",
       "    .dataframe tbody tr th {\n",
       "        vertical-align: top;\n",
       "    }\n",
       "\n",
       "    .dataframe thead th {\n",
       "        text-align: right;\n",
       "    }\n",
       "</style>\n",
       "<table border=\"1\" class=\"dataframe\">\n",
       "  <thead>\n",
       "    <tr style=\"text-align: right;\">\n",
       "      <th></th>\n",
       "      <th>City</th>\n",
       "      <th>Country</th>\n",
       "      <th>Max Temp</th>\n",
       "      <th>Current Description</th>\n",
       "      <th>Lat</th>\n",
       "      <th>Lng</th>\n",
       "      <th>Hotel Name</th>\n",
       "    </tr>\n",
       "    <tr>\n",
       "      <th>City_ID</th>\n",
       "      <th></th>\n",
       "      <th></th>\n",
       "      <th></th>\n",
       "      <th></th>\n",
       "      <th></th>\n",
       "      <th></th>\n",
       "      <th></th>\n",
       "    </tr>\n",
       "  </thead>\n",
       "  <tbody>\n",
       "    <tr>\n",
       "      <th>23</th>\n",
       "      <td>Port Alfred</td>\n",
       "      <td>ZA</td>\n",
       "      <td>68.00</td>\n",
       "      <td>scattered clouds</td>\n",
       "      <td>-33.59</td>\n",
       "      <td>26.89</td>\n",
       "      <td>The Halyards Hotel</td>\n",
       "    </tr>\n",
       "    <tr>\n",
       "      <th>37</th>\n",
       "      <td>Cape Town</td>\n",
       "      <td>ZA</td>\n",
       "      <td>68.00</td>\n",
       "      <td>broken clouds</td>\n",
       "      <td>-33.93</td>\n",
       "      <td>18.42</td>\n",
       "      <td>Southern Sun Waterfront Cape Town</td>\n",
       "    </tr>\n",
       "    <tr>\n",
       "      <th>95</th>\n",
       "      <td>Hermanus</td>\n",
       "      <td>ZA</td>\n",
       "      <td>64.00</td>\n",
       "      <td>overcast clouds</td>\n",
       "      <td>-34.42</td>\n",
       "      <td>19.24</td>\n",
       "      <td>Misty Waves Boutique Hotel</td>\n",
       "    </tr>\n",
       "    <tr>\n",
       "      <th>201</th>\n",
       "      <td>Kruisfontein</td>\n",
       "      <td>ZA</td>\n",
       "      <td>65.17</td>\n",
       "      <td>light rain</td>\n",
       "      <td>-34.00</td>\n",
       "      <td>24.73</td>\n",
       "      <td>Oyster Bay House Rental</td>\n",
       "    </tr>\n",
       "  </tbody>\n",
       "</table>\n",
       "</div>"
      ],
      "text/plain": [
       "                 City Country  Max Temp Current Description    Lat    Lng  \\\n",
       "City_ID                                                                     \n",
       "23        Port Alfred      ZA     68.00    scattered clouds -33.59  26.89   \n",
       "37          Cape Town      ZA     68.00       broken clouds -33.93  18.42   \n",
       "95           Hermanus      ZA     64.00     overcast clouds -34.42  19.24   \n",
       "201      Kruisfontein      ZA     65.17          light rain -34.00  24.73   \n",
       "\n",
       "                                Hotel Name  \n",
       "City_ID                                     \n",
       "23                      The Halyards Hotel  \n",
       "37       Southern Sun Waterfront Cape Town  \n",
       "95              Misty Waves Boutique Hotel  \n",
       "201                Oyster Bay House Rental  "
      ]
     },
     "execution_count": 9,
     "metadata": {},
     "output_type": "execute_result"
    }
   ],
   "source": [
    "ZAcities_df = vacationItinerary_df.loc[vacationItinerary_df[\"City\"].isin([\"Cape Town\",\"Port Alfred\",\"Kruisfontein\",\"Hermanus\"])]\n",
    "ZAcities_df"
   ]
  },
  {
   "cell_type": "code",
   "execution_count": 10,
   "metadata": {},
   "outputs": [
    {
     "data": {
      "text/plain": [
       "(-33.59, 26.89)"
      ]
     },
     "execution_count": 10,
     "metadata": {},
     "output_type": "execute_result"
    }
   ],
   "source": [
    "#create longtititue and latitude pairs \n",
    "ZAcities_lng_lat = ZAcities_df[[\"Lat\",\"Lng\"]]\n",
    "ZAcitiesT = [tuple(x) for x in ZAcities_lng_lat.values][0]\n",
    "ZAcitiesT"
   ]
  },
  {
   "cell_type": "code",
   "execution_count": 11,
   "metadata": {},
   "outputs": [
    {
     "data": {
      "text/plain": [
       "(-33.93, 18.42)"
      ]
     },
     "execution_count": 11,
     "metadata": {},
     "output_type": "execute_result"
    }
   ],
   "source": [
    "#create lat lng values for each city using tuple \n",
    "\n",
    "ZACapeTown_lat_lng = ZACapeTown_df[[\"Lat\", \"Lng\"]]\n",
    "ZACapeTownT = [tuple(x) for x in ZACapeTown_lat_lng.values][0]\n",
    "ZACapeTownT"
   ]
  },
  {
   "cell_type": "code",
   "execution_count": 12,
   "metadata": {},
   "outputs": [
    {
     "data": {
      "text/plain": [
       "(-33.59, 26.89)"
      ]
     },
     "execution_count": 12,
     "metadata": {},
     "output_type": "execute_result"
    }
   ],
   "source": [
    "#create lat lng values for each city using tuple \n",
    "\n",
    "ZAPortAlfred_lat_lng = ZAPortAlfred_df[[\"Lat\", \"Lng\"]]\n",
    "ZAPortAlfredT = [tuple(x) for x in ZAPortAlfred_lat_lng.values][0]\n",
    "ZAPortAlfredT"
   ]
  },
  {
   "cell_type": "code",
   "execution_count": 13,
   "metadata": {},
   "outputs": [
    {
     "data": {
      "text/plain": [
       "(-34.0, 24.73)"
      ]
     },
     "execution_count": 13,
     "metadata": {},
     "output_type": "execute_result"
    }
   ],
   "source": [
    "#create lat lng values for each city using tuple \n",
    "ZAKruisfontein_lat_lng = ZAKruisfontein_df[[\"Lat\", \"Lng\"]]\n",
    "ZAKruisfonteinT = [tuple(x) for x in ZAKruisfontein_lat_lng.values][0]\n",
    "ZAKruisfonteinT"
   ]
  },
  {
   "cell_type": "code",
   "execution_count": 14,
   "metadata": {},
   "outputs": [
    {
     "data": {
      "text/plain": [
       "(-34.42, 19.24)"
      ]
     },
     "execution_count": 14,
     "metadata": {},
     "output_type": "execute_result"
    }
   ],
   "source": [
    "#create lat lng values for each city using tuple \n",
    "ZAHermanus_lat_lng = ZAHermanus_df[[\"Lat\", \"Lng\"]]\n",
    "ZAHermanusT = [tuple(x) for x in ZAHermanus_lat_lng.values][0]\n",
    "ZAHermanusT"
   ]
  },
  {
   "cell_type": "code",
   "execution_count": 15,
   "metadata": {},
   "outputs": [],
   "source": [
    "# Configure gmaps to use your Google API key.\n",
    "gmaps.configure(api_key=g_key)"
   ]
  },
  {
   "cell_type": "code",
   "execution_count": 16,
   "metadata": {},
   "outputs": [
    {
     "data": {
      "application/vnd.jupyter.widget-view+json": {
       "model_id": "d483b36eafc3485aae0ae9d874a7d4be",
       "version_major": 2,
       "version_minor": 0
      },
      "text/plain": [
       "Figure(layout=FigureLayout(height='420px'))"
      ]
     },
     "metadata": {},
     "output_type": "display_data"
    }
   ],
   "source": [
    "#create a direction map\n",
    "\n",
    "fig = gmaps.figure()\n",
    "#map the drive to the four picked cities \n",
    "#driving_directions = gmaps.directions_layer(ZACapeTownD, ZAPortAlfredD, waypoints=[ZAKruisfonteinD, ZAHermanusD], travel_mode='DRIVING')\n",
    "driving_directions = gmaps.directions_layer(ZACapeTownT, ZAPortAlfredT, waypoints=[ZAKruisfonteinT, ZAHermanusT], travel_mode='DRIVING')\n",
    "fig.add_layer(driving_directions)\n",
    "fig"
   ]
  },
  {
   "cell_type": "code",
   "execution_count": 18,
   "metadata": {},
   "outputs": [],
   "source": [
    "info_box_template = \"\"\"\n",
    "<dl>\n",
    "<dt>Hotel Name</dt><dd>{Hotel Name}</dd>\n",
    "<dt>City</dt><dd>{City}</dd>\n",
    "<dt>Country</dt><dd>{Country}</dd>\n",
    "<dt>Max Temp</dt><dd>{Max Temp} °F</dd>\n",
    "</dl>\n",
    "\"\"\""
   ]
  },
  {
   "cell_type": "code",
   "execution_count": 19,
   "metadata": {},
   "outputs": [],
   "source": [
    "# Store the DataFrame Row.\n",
    "hotels = [info_box_template.format(**row) for index, row in ZAcities_df.iterrows()]"
   ]
  },
  {
   "cell_type": "code",
   "execution_count": 20,
   "metadata": {},
   "outputs": [
    {
     "data": {
      "application/vnd.jupyter.widget-view+json": {
       "model_id": "adba9b0c125a488fa649d1f5f2e54081",
       "version_major": 2,
       "version_minor": 0
      },
      "text/plain": [
       "Figure(layout=FigureLayout(height='420px'))"
      ]
     },
     "metadata": {},
     "output_type": "display_data"
    }
   ],
   "source": [
    "#set the pop-up marker for each city in the vacation itinerary\n",
    "\n",
    "# Add a heatmap of temperature for the vacation spots and a pop-up marker for each city.\n",
    "locations = ZAcities_df[[\"Lat\", \"Lng\"]]\n",
    "# max_temp = ZAcities_df[\"Max Temp\"]\n",
    "fig = gmaps.figure(center=(30.0, 31.0), zoom_level=1.5)\n",
    "#heat_layer = gmaps.heatmap_layer(locations, weights=max_temp,dissipating=False,\n",
    "           #  max_intensity=300, point_radius=4)\n",
    "    \n",
    "\n",
    "# Store the DataFrame Row.\n",
    "# hotels = [info_box_template.format(**row) for index, row in ZAcities_df.iterrows()]\n",
    "marker_layer = gmaps.marker_layer(locations, info_box_content= hotels)\n",
    "#fig.add_layer(heat_layer)\n",
    "fig.add_layer(marker_layer)\n",
    "\n",
    "# Call the figure to plot the data.\n",
    "fig"
   ]
  },
  {
   "cell_type": "code",
   "execution_count": null,
   "metadata": {},
   "outputs": [],
   "source": []
  }
 ],
 "metadata": {
  "kernelspec": {
   "display_name": "PythonData",
   "language": "python",
   "name": "pythondata"
  },
  "language_info": {
   "codemirror_mode": {
    "name": "ipython",
    "version": 3
   },
   "file_extension": ".py",
   "mimetype": "text/x-python",
   "name": "python",
   "nbconvert_exporter": "python",
   "pygments_lexer": "ipython3",
   "version": "3.6.9"
  }
 },
 "nbformat": 4,
 "nbformat_minor": 2
}
